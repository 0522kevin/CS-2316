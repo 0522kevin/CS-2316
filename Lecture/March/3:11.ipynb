{
 "cells": [
  {
   "cell_type": "code",
   "execution_count": 1,
   "id": "d166ad03",
   "metadata": {},
   "outputs": [],
   "source": [
    "import numpy as np\n",
    "import pandas as pd"
   ]
  },
  {
   "cell_type": "code",
   "execution_count": 3,
   "id": "03079bfa",
   "metadata": {},
   "outputs": [
    {
     "name": "stdout",
     "output_type": "stream",
     "text": [
      "[0.001 0.002   nan]\n",
      "False\n",
      "True\n"
     ]
    }
   ],
   "source": [
    "arr = np.array([.001, .002, np.nan])\n",
    "print(arr)\n",
    "print(arr[2] is np.nan)\n",
    "print(np.isnan(arr[2]))"
   ]
  },
  {
   "cell_type": "code",
   "execution_count": 7,
   "id": "4dd8179e",
   "metadata": {},
   "outputs": [
    {
     "data": {
      "text/plain": [
       "array([[2, 3],\n",
       "       [4, 5],\n",
       "       [2, 3],\n",
       "       [4, 5]])"
      ]
     },
     "execution_count": 7,
     "metadata": {},
     "output_type": "execute_result"
    }
   ],
   "source": [
    "a1 = np.array([[2,3],[4,5]])\n",
    "a2 = np.array([[2,3],[4,5]])\n",
    "newarr = np.concatenate([a1,a2],axis = 0)\n",
    "newarr"
   ]
  },
  {
   "cell_type": "code",
   "execution_count": 5,
   "id": "d9acc93d",
   "metadata": {},
   "outputs": [
    {
     "data": {
      "text/plain": [
       "array([[ 90,  87,  96],\n",
       "       [ 79, 100,  92],\n",
       "       [ 98,  60,  74]], dtype=int32)"
      ]
     },
     "execution_count": 5,
     "metadata": {},
     "output_type": "execute_result"
    }
   ],
   "source": [
    "arr = np.loadtxt(open(\"grades.csv\"), delimiter = \",\", skiprows = 1, dtype=\"int32\")\n",
    "arr"
   ]
  },
  {
   "cell_type": "code",
   "execution_count": 10,
   "id": "6faa335f",
   "metadata": {},
   "outputs": [
    {
     "data": {
      "text/plain": [
       "0    1\n",
       "1    2\n",
       "2    3\n",
       "dtype: int64"
      ]
     },
     "execution_count": 10,
     "metadata": {},
     "output_type": "execute_result"
    }
   ],
   "source": [
    "s1 = pd.Series([1,2,3], index = [0,1,2])\n",
    "s1"
   ]
  },
  {
   "cell_type": "code",
   "execution_count": 11,
   "id": "1e28d72c",
   "metadata": {},
   "outputs": [
    {
     "data": {
      "text/plain": [
       "0    0.000000\n",
       "1    0.555556\n",
       "2    1.111111\n",
       "3    1.666667\n",
       "4    2.222222\n",
       "5    2.777778\n",
       "6    3.333333\n",
       "7    3.888889\n",
       "8    4.444444\n",
       "9    5.000000\n",
       "dtype: float64"
      ]
     },
     "execution_count": 11,
     "metadata": {},
     "output_type": "execute_result"
    }
   ],
   "source": [
    "s2 = pd.Series(np.linspace(0,5,10))\n",
    "s2"
   ]
  },
  {
   "cell_type": "code",
   "execution_count": 12,
   "id": "f273c9b8",
   "metadata": {},
   "outputs": [
    {
     "data": {
      "text/plain": [
       "1    5\n",
       "2    5\n",
       "3    5\n",
       "4    5\n",
       "5    5\n",
       "dtype: int64"
      ]
     },
     "execution_count": 12,
     "metadata": {},
     "output_type": "execute_result"
    }
   ],
   "source": [
    "s3 = pd.Series(5,index=[1,2,3,4,5])\n",
    "s3"
   ]
  },
  {
   "cell_type": "code",
   "execution_count": 14,
   "id": "55bb7425",
   "metadata": {},
   "outputs": [
    {
     "data": {
      "text/plain": [
       "a    4.0\n",
       "b    4.0\n",
       "c    NaN\n",
       "k    NaN\n",
       "dtype: float64"
      ]
     },
     "execution_count": 14,
     "metadata": {},
     "output_type": "execute_result"
    }
   ],
   "source": [
    "s1 = pd.Series([1,2,3],index = [\"a\",\"b\",\"k\"])\n",
    "s2 = pd.Series([1,2,3],index = [\"c\",\"b\",\"a\"])\n",
    "\n",
    "s3 = s1 + s2\n",
    "s3"
   ]
  },
  {
   "cell_type": "code",
   "execution_count": 18,
   "id": "a786937c",
   "metadata": {},
   "outputs": [
    {
     "name": "stdout",
     "output_type": "stream",
     "text": [
      "1    1\n",
      "2    2\n",
      "3    3\n",
      "dtype: int64\n",
      "2\n",
      "3\n"
     ]
    }
   ],
   "source": [
    "s1 = pd.Series([1,2,3],index = [1, 2, 3])\n",
    "print(s1)\n",
    "print(s1.loc[2])\n",
    "print(s1.iloc[2])"
   ]
  },
  {
   "cell_type": "code",
   "execution_count": 19,
   "id": "92cf22b9",
   "metadata": {},
   "outputs": [
    {
     "data": {
      "text/plain": [
       "k    a\n",
       "i    b\n",
       "t    c\n",
       "dtype: object"
      ]
     },
     "execution_count": 19,
     "metadata": {},
     "output_type": "execute_result"
    }
   ],
   "source": [
    "s1 = pd.Series([\"a\", \"b\", \"c\"], index = list(\"kit\"))\n",
    "s1"
   ]
  },
  {
   "cell_type": "code",
   "execution_count": 20,
   "id": "03e1a4e4",
   "metadata": {},
   "outputs": [
    {
     "data": {
      "text/plain": [
       "k    a\n",
       "i    b\n",
       "dtype: object"
      ]
     },
     "execution_count": 20,
     "metadata": {},
     "output_type": "execute_result"
    }
   ],
   "source": [
    "s1.iloc[0:2]"
   ]
  },
  {
   "cell_type": "code",
   "execution_count": 21,
   "id": "0fa495ec",
   "metadata": {},
   "outputs": [
    {
     "data": {
      "text/plain": [
       "k    a\n",
       "i    b\n",
       "dtype: object"
      ]
     },
     "execution_count": 21,
     "metadata": {},
     "output_type": "execute_result"
    }
   ],
   "source": [
    "s1.loc[\"k\":\"i\"]"
   ]
  },
  {
   "cell_type": "code",
   "execution_count": 22,
   "id": "13b7d85d",
   "metadata": {},
   "outputs": [
    {
     "data": {
      "text/plain": [
       "a    1.0\n",
       "b    1.5\n",
       "c    2.0\n",
       "d    2.5\n",
       "dtype: float64"
      ]
     },
     "execution_count": 22,
     "metadata": {},
     "output_type": "execute_result"
    }
   ],
   "source": [
    "s1 = pd.Series(np.arange(1, 3, 0.5), index = list(\"abcd\"))\n",
    "s1"
   ]
  },
  {
   "cell_type": "code",
   "execution_count": null,
   "id": "f9ac6cb9",
   "metadata": {},
   "outputs": [],
   "source": []
  }
 ],
 "metadata": {
  "kernelspec": {
   "display_name": "Python 3 (ipykernel)",
   "language": "python",
   "name": "python3"
  },
  "language_info": {
   "codemirror_mode": {
    "name": "ipython",
    "version": 3
   },
   "file_extension": ".py",
   "mimetype": "text/x-python",
   "name": "python",
   "nbconvert_exporter": "python",
   "pygments_lexer": "ipython3",
   "version": "3.9.7"
  }
 },
 "nbformat": 4,
 "nbformat_minor": 5
}
